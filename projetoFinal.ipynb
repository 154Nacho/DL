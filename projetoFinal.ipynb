{
 "cells": [
  {
   "cell_type": "markdown",
   "metadata": {
    "id": "bAJifWVj9knv"
   },
   "source": [
    "**IMPORTS**"
   ]
  },
  {
   "cell_type": "code",
   "execution_count": 1,
   "metadata": {
    "colab": {
     "base_uri": "https://localhost:8080/",
     "height": 1000
    },
    "id": "A4-ScTCS_smN",
    "outputId": "f0348312-e250-432c-9c60-16b5f2face15",
    "scrolled": true
   },
   "outputs": [
    {
     "name": "stdout",
     "output_type": "stream",
     "text": [
      "Collecting torchinfo\n",
      "  Downloading torchinfo-1.6.5-py3-none-any.whl (21 kB)\n",
      "Installing collected packages: torchinfo\n",
      "Successfully installed torchinfo-1.6.5\n",
      "Collecting livelossplot\n",
      "  Downloading livelossplot-0.5.5-py3-none-any.whl (22 kB)\n",
      "Collecting ipython==7.*\n",
      "  Downloading ipython-7.32.0-py3-none-any.whl (793 kB)\n",
      "\u001b[K     |████████████████████████████████| 793 kB 6.7 MB/s \n",
      "\u001b[?25hRequirement already satisfied: matplotlib in /usr/local/lib/python3.7/dist-packages (from livelossplot) (3.2.2)\n",
      "Requirement already satisfied: numpy<1.22 in /usr/local/lib/python3.7/dist-packages (from livelossplot) (1.21.6)\n",
      "Requirement already satisfied: bokeh in /usr/local/lib/python3.7/dist-packages (from livelossplot) (2.3.3)\n",
      "Requirement already satisfied: jedi>=0.16 in /usr/local/lib/python3.7/dist-packages (from ipython==7.*->livelossplot) (0.18.1)\n",
      "Requirement already satisfied: pygments in /usr/local/lib/python3.7/dist-packages (from ipython==7.*->livelossplot) (2.6.1)\n",
      "Requirement already satisfied: pickleshare in /usr/local/lib/python3.7/dist-packages (from ipython==7.*->livelossplot) (0.7.5)\n",
      "Requirement already satisfied: setuptools>=18.5 in /usr/local/lib/python3.7/dist-packages (from ipython==7.*->livelossplot) (57.4.0)\n",
      "Requirement already satisfied: traitlets>=4.2 in /usr/local/lib/python3.7/dist-packages (from ipython==7.*->livelossplot) (5.1.1)\n",
      "Collecting prompt-toolkit!=3.0.0,!=3.0.1,<3.1.0,>=2.0.0\n",
      "  Downloading prompt_toolkit-3.0.29-py3-none-any.whl (381 kB)\n",
      "\u001b[K     |████████████████████████████████| 381 kB 41.2 MB/s \n",
      "\u001b[?25hRequirement already satisfied: backcall in /usr/local/lib/python3.7/dist-packages (from ipython==7.*->livelossplot) (0.2.0)\n",
      "Requirement already satisfied: decorator in /usr/local/lib/python3.7/dist-packages (from ipython==7.*->livelossplot) (4.4.2)\n",
      "Requirement already satisfied: pexpect>4.3 in /usr/local/lib/python3.7/dist-packages (from ipython==7.*->livelossplot) (4.8.0)\n",
      "Requirement already satisfied: matplotlib-inline in /usr/local/lib/python3.7/dist-packages (from ipython==7.*->livelossplot) (0.1.3)\n",
      "Requirement already satisfied: parso<0.9.0,>=0.8.0 in /usr/local/lib/python3.7/dist-packages (from jedi>=0.16->ipython==7.*->livelossplot) (0.8.3)\n",
      "Requirement already satisfied: ptyprocess>=0.5 in /usr/local/lib/python3.7/dist-packages (from pexpect>4.3->ipython==7.*->livelossplot) (0.7.0)\n",
      "Requirement already satisfied: wcwidth in /usr/local/lib/python3.7/dist-packages (from prompt-toolkit!=3.0.0,!=3.0.1,<3.1.0,>=2.0.0->ipython==7.*->livelossplot) (0.2.5)\n",
      "Requirement already satisfied: PyYAML>=3.10 in /usr/local/lib/python3.7/dist-packages (from bokeh->livelossplot) (3.13)\n",
      "Requirement already satisfied: tornado>=5.1 in /usr/local/lib/python3.7/dist-packages (from bokeh->livelossplot) (5.1.1)\n",
      "Requirement already satisfied: pillow>=7.1.0 in /usr/local/lib/python3.7/dist-packages (from bokeh->livelossplot) (7.1.2)\n",
      "Requirement already satisfied: python-dateutil>=2.1 in /usr/local/lib/python3.7/dist-packages (from bokeh->livelossplot) (2.8.2)\n",
      "Requirement already satisfied: packaging>=16.8 in /usr/local/lib/python3.7/dist-packages (from bokeh->livelossplot) (21.3)\n",
      "Requirement already satisfied: typing-extensions>=3.7.4 in /usr/local/lib/python3.7/dist-packages (from bokeh->livelossplot) (4.1.1)\n",
      "Requirement already satisfied: Jinja2>=2.9 in /usr/local/lib/python3.7/dist-packages (from bokeh->livelossplot) (2.11.3)\n",
      "Requirement already satisfied: MarkupSafe>=0.23 in /usr/local/lib/python3.7/dist-packages (from Jinja2>=2.9->bokeh->livelossplot) (2.0.1)\n",
      "Requirement already satisfied: pyparsing!=3.0.5,>=2.0.2 in /usr/local/lib/python3.7/dist-packages (from packaging>=16.8->bokeh->livelossplot) (3.0.8)\n",
      "Requirement already satisfied: six>=1.5 in /usr/local/lib/python3.7/dist-packages (from python-dateutil>=2.1->bokeh->livelossplot) (1.15.0)\n",
      "Requirement already satisfied: cycler>=0.10 in /usr/local/lib/python3.7/dist-packages (from matplotlib->livelossplot) (0.11.0)\n",
      "Requirement already satisfied: kiwisolver>=1.0.1 in /usr/local/lib/python3.7/dist-packages (from matplotlib->livelossplot) (1.4.2)\n",
      "Installing collected packages: prompt-toolkit, ipython, livelossplot\n",
      "  Attempting uninstall: prompt-toolkit\n",
      "    Found existing installation: prompt-toolkit 1.0.18\n",
      "    Uninstalling prompt-toolkit-1.0.18:\n",
      "      Successfully uninstalled prompt-toolkit-1.0.18\n",
      "  Attempting uninstall: ipython\n",
      "    Found existing installation: ipython 5.5.0\n",
      "    Uninstalling ipython-5.5.0:\n",
      "      Successfully uninstalled ipython-5.5.0\n",
      "\u001b[31mERROR: pip's dependency resolver does not currently take into account all the packages that are installed. This behaviour is the source of the following dependency conflicts.\n",
      "jupyter-console 5.2.0 requires prompt-toolkit<2.0.0,>=1.0.0, but you have prompt-toolkit 3.0.29 which is incompatible.\n",
      "google-colab 1.0.0 requires ipython~=5.5.0, but you have ipython 7.32.0 which is incompatible.\u001b[0m\n",
      "Successfully installed ipython-7.32.0 livelossplot-0.5.5 prompt-toolkit-3.0.29\n"
     ]
    },
    {
     "data": {
      "application/vnd.colab-display-data+json": {
       "pip_warning": {
        "packages": [
         "IPython",
         "prompt_toolkit"
        ]
       }
      }
     },
     "metadata": {},
     "output_type": "display_data"
    }
   ],
   "source": [
    "!pip install torchinfo\n",
    "!pip install livelossplot"
   ]
  },
  {
   "cell_type": "code",
   "execution_count": 1,
   "metadata": {
    "scrolled": true
   },
   "outputs": [
    {
     "name": "stdout",
     "output_type": "stream",
     "text": [
      "Requirement already satisfied: livelossplot in c:\\anaconda\\envs\\deeplearning\\lib\\site-packages (0.5.5)\n",
      "Requirement already satisfied: bokeh in c:\\anaconda\\envs\\deeplearning\\lib\\site-packages (from livelossplot) (2.4.2)\n",
      "Requirement already satisfied: matplotlib in c:\\anaconda\\envs\\deeplearning\\lib\\site-packages (from livelossplot) (3.5.1)\n",
      "Requirement already satisfied: pillow>=7.1.0 in c:\\anaconda\\envs\\deeplearning\\lib\\site-packages (from bokeh->livelossplot) (9.0.1)\n",
      "Requirement already satisfied: PyYAML>=3.10 in c:\\anaconda\\envs\\deeplearning\\lib\\site-packages (from bokeh->livelossplot) (6.0)\n",
      "Requirement already satisfied: numpy>=1.11.3 in c:\\anaconda\\envs\\deeplearning\\lib\\site-packages (from bokeh->livelossplot) (1.21.5)\n",
      "Requirement already satisfied: packaging>=16.8 in c:\\anaconda\\envs\\deeplearning\\lib\\site-packages (from bokeh->livelossplot) (21.3)\n",
      "Requirement already satisfied: Jinja2>=2.9 in c:\\anaconda\\envs\\deeplearning\\lib\\site-packages (from bokeh->livelossplot) (3.0.3)\n",
      "Requirement already satisfied: tornado>=5.1 in c:\\anaconda\\envs\\deeplearning\\lib\\site-packages (from bokeh->livelossplot) (6.1)\n",
      "Requirement already satisfied: typing-extensions>=3.10.0 in c:\\anaconda\\envs\\deeplearning\\lib\\site-packages (from bokeh->livelossplot) (4.1.1)\n",
      "Requirement already satisfied: MarkupSafe>=2.0 in c:\\anaconda\\envs\\deeplearning\\lib\\site-packages (from Jinja2>=2.9->bokeh->livelossplot) (2.0.1)\n",
      "Requirement already satisfied: pyparsing!=3.0.5,>=2.0.2 in c:\\anaconda\\envs\\deeplearning\\lib\\site-packages (from packaging>=16.8->bokeh->livelossplot) (3.0.4)\n",
      "Requirement already satisfied: cycler>=0.10 in c:\\anaconda\\envs\\deeplearning\\lib\\site-packages (from matplotlib->livelossplot) (0.11.0)\n",
      "Requirement already satisfied: fonttools>=4.22.0 in c:\\anaconda\\envs\\deeplearning\\lib\\site-packages (from matplotlib->livelossplot) (4.25.0)\n",
      "Requirement already satisfied: kiwisolver>=1.0.1 in c:\\anaconda\\envs\\deeplearning\\lib\\site-packages (from matplotlib->livelossplot) (1.3.2)\n",
      "Requirement already satisfied: python-dateutil>=2.7 in c:\\anaconda\\envs\\deeplearning\\lib\\site-packages (from matplotlib->livelossplot) (2.8.2)\n",
      "Requirement already satisfied: six>=1.5 in c:\\anaconda\\envs\\deeplearning\\lib\\site-packages (from python-dateutil>=2.7->matplotlib->livelossplot) (1.16.0)\n"
     ]
    }
   ],
   "source": [
    "!pip install livelossplot"
   ]
  },
  {
   "cell_type": "code",
   "execution_count": 2,
   "metadata": {
    "colab": {
     "base_uri": "https://localhost:8080/"
    },
    "id": "bJYdJ7OjqRHy",
    "outputId": "a3a131ae-447a-4d37-b364-5c7ddd617a09",
    "scrolled": true
   },
   "outputs": [
    {
     "name": "stdout",
     "output_type": "stream",
     "text": [
      "1.11.0\n"
     ]
    }
   ],
   "source": [
    "import torch\n",
    "print(torch.__version__)"
   ]
  },
  {
   "cell_type": "code",
   "execution_count": 3,
   "metadata": {
    "id": "Ij7tu3ERqS-D"
   },
   "outputs": [],
   "source": [
    "import pandas as pd\n",
    "import numpy as np\n",
    "from sklearn.preprocessing import LabelEncoder\n",
    "from sklearn.metrics import accuracy_score\n",
    "from sklearn.metrics import confusion_matrix, classification_report\n",
    "from torch.utils.data import Dataset\n",
    "from torch.utils.data import DataLoader\n",
    "from torch.utils.data import random_split\n",
    "from torch import Tensor\n",
    "from torch.nn import Linear\n",
    "from torch.nn import ReLU\n",
    "from torch.nn import Sigmoid\n",
    "from torch.nn import Module\n",
    "from torch.optim import SGD, Adam\n",
    "from torch.nn import BCELoss, BCEWithLogitsLoss\n",
    "from torch.nn.init import kaiming_uniform_\n",
    "from torch.nn.init import xavier_uniform_\n",
    "from IPython.display import display\n",
    "import seaborn as sns\n",
    "import matplotlib.pyplot as plt\n",
    "from torchinfo import summary\n",
    "from livelossplot import PlotLosses"
   ]
  },
  {
   "cell_type": "markdown",
   "metadata": {
    "id": "v2PNCh9g9sU1"
   },
   "source": [
    "**Preparar os Dados**"
   ]
  },
  {
   "cell_type": "code",
   "execution_count": 4,
   "metadata": {
    "id": "Y8fKX3dbqiaM"
   },
   "outputs": [],
   "source": [
    "PATH = 'train.csv'\n",
    "\n",
    "device = torch.device(\"cpu\")\n",
    "\n",
    "EPOCHS = 50\n",
    "BATCH_SIZE = 64\n",
    "LEARNING_RATE = 0.001"
   ]
  },
  {
   "cell_type": "code",
   "execution_count": 18,
   "metadata": {
    "id": "Is3JFD9aqm8Q"
   },
   "outputs": [],
   "source": [
    "class CSVDataset(Dataset):\n",
    "\n",
    "  def __init__(self, path):\n",
    "    df = pd.read_csv(path, header=None)\n",
    "    self.X = df.values[1:,1:]\n",
    "    self.X = np.delete(self.X,0,1) #remover a idade\n",
    "    #print(self.X)\n",
    "    self.y = df.values[1:, 1]\n",
    "    self.X = self.X.astype('float32')\n",
    "    self.y = self.y.astype('float32')\n",
    "    self.y = self.y.reshape((len(self.y), 1)) \n",
    "\n",
    "  def __len__(self):\n",
    "    return len(self.X)\n",
    "\n",
    "  def __getitem__(self, idx):\n",
    "    return [self.X[idx], self.y[idx]] \n",
    "  \n",
    "  def get_splits(self, n_test=0.33): \n",
    "    test_size = round(n_test * len(self.X)) \n",
    "    train_size = len(self.X) - test_size \n",
    "    return random_split(self, [train_size, test_size])"
   ]
  },
  {
   "cell_type": "code",
   "execution_count": 17,
   "metadata": {
    "colab": {
     "base_uri": "https://localhost:8080/"
    },
    "id": "DvzvNicWre3r",
    "outputId": "ddf641de-3440-4f9c-a70d-59495859a160"
   },
   "outputs": [
    {
     "name": "stdout",
     "output_type": "stream",
     "text": [
      "[['1' '7']\n",
      " ['0' '8']\n",
      " ['1' '9']\n",
      " ['1' '9']\n",
      " ['1' '9']\n",
      " ['1' '9']\n",
      " ['0' '10']\n",
      " ['1' '10']\n",
      " ['0' '10']\n",
      " ['0' '11']\n",
      " ['1' '9']\n",
      " ['0' '10']\n",
      " ['0' '10']\n",
      " ['1' '9']\n",
      " ['1' '10']\n",
      " ['1' '9']\n",
      " ['1' '11']\n",
      " ['1' '10']\n",
      " ['0' '10']\n",
      " ['1' '9']\n",
      " ['1' '9']\n",
      " ['0' '12']\n",
      " ['1' '17']\n",
      " ['1' '12']\n",
      " ['1' '12']\n",
      " ['0' '13']\n",
      " ['0' '9']\n",
      " ['1' '16']\n",
      " ['1' '6']\n",
      " ['0' '12']\n",
      " ['0' '9']\n",
      " ['1' '15']\n",
      " ['0' '12']\n",
      " ['1' '9']\n",
      " ['0' '17']\n",
      " ['1' '14']\n",
      " ['1' '15']\n",
      " ['1' '17']\n",
      " ['1' '17']\n",
      " ['0' '15']\n",
      " ['0' '17']\n",
      " ['1' '13']\n",
      " ['1' '13']\n",
      " ['0' '20']\n",
      " ['1' '6']\n",
      " ['0' '16']\n",
      " ['1' '17']\n",
      " ['0' '14']\n",
      " ['0' '6']\n",
      " ['0' '9']\n",
      " ['0' '14']\n",
      " ['0' '19']\n",
      " ['0' '16']\n",
      " ['1' '19']\n",
      " ['0' '14']\n",
      " ['0' '4']\n",
      " ['0' '4']\n",
      " ['1' '2']\n",
      " ['0' '9']\n",
      " ['0' '4']\n",
      " ['1' '0']\n",
      " ['0' '9']\n",
      " ['0' '16']\n",
      " ['0' '4']\n",
      " ['1' '4']\n",
      " ['1' '4']\n",
      " ['0' '4']\n",
      " ['0' '4']\n",
      " ['0' '4']\n",
      " ['1' '4']\n",
      " ['1' '2']\n",
      " ['1' '3']\n",
      " ['0' '12']\n",
      " ['1' '7']\n",
      " ['0' '7']\n",
      " ['0' '12']\n",
      " ['1' '4']\n",
      " ['1' '4']\n",
      " ['1' '4']\n",
      " ['1' '0']\n",
      " ['0' '12']\n",
      " ['0' '9']\n",
      " ['0' '4']\n",
      " ['1' '4']\n",
      " ['0' '12']\n",
      " ['1' '4']\n",
      " ['1' '4']\n",
      " ['0' '17']\n",
      " ['0' '17']\n",
      " ['0' '9']\n",
      " ['1' '4']\n",
      " ['1' '12']\n",
      " ['1' '12']\n",
      " ['0' '17']\n",
      " ['1' '4']\n",
      " ['0' '4']\n",
      " ['1' '4']\n",
      " ['0' '6']\n",
      " ['0' '4']\n",
      " ['0' '4']\n",
      " ['0' '4']\n",
      " ['0' '9']\n",
      " ['1' '4']\n",
      " ['0' '12']\n",
      " ['0' '3']\n",
      " ['1' '3']\n",
      " ['0' '4']\n",
      " ['1' '4']\n",
      " ['0' '4']\n",
      " ['0' '4']\n",
      " ['1' '3']\n",
      " ['0' '4']]\n",
      "torch.Size([75, 2]) torch.Size([75, 1])\n",
      "torch.Size([37, 2]) torch.Size([37, 1])\n"
     ]
    }
   ],
   "source": [
    "def prepare_data(path):\n",
    "        dataset = CSVDataset(path)\n",
    "        train, test = dataset.get_splits()\n",
    "        train_dl = DataLoader(train, batch_size=len(train), shuffle=True)\n",
    "        test_dl = DataLoader(test, batch_size=1024, shuffle=False)\n",
    "        train_dl_all = DataLoader(train, batch_size=len(train), shuffle=False)\n",
    "        test_dl_all = DataLoader(test, batch_size=len(test), shuffle=False)\n",
    "        return train_dl, test_dl, train_dl_all, test_dl_all\n",
    "        \n",
    "train_dl, test_dl,  train_dl_all, test_dl_all = prepare_data(PATH)\n",
    "\n",
    "x,y = next(iter(train_dl))\n",
    "print(x.shape, y.shape)\n",
    "x,y = next(iter(test_dl))\n",
    "print(x.shape, y.shape)"
   ]
  },
  {
   "cell_type": "markdown",
   "metadata": {
    "id": "xAfOXcIZ9wZ5"
   },
   "source": [
    "**Visualizar os Dados**"
   ]
  },
  {
   "cell_type": "code",
   "execution_count": 42,
   "metadata": {
    "colab": {
     "base_uri": "https://localhost:8080/",
     "height": 513
    },
    "id": "sSjHZW6094Hw",
    "outputId": "1222ac87-91a8-408c-b207-4d67ba3e4bbb"
   },
   "outputs": [
    {
     "data": {
      "text/html": [
       "<div>\n",
       "<style scoped>\n",
       "    .dataframe tbody tr th:only-of-type {\n",
       "        vertical-align: middle;\n",
       "    }\n",
       "\n",
       "    .dataframe tbody tr th {\n",
       "        vertical-align: top;\n",
       "    }\n",
       "\n",
       "    .dataframe thead th {\n",
       "        text-align: right;\n",
       "    }\n",
       "</style>\n",
       "<table border=\"1\" class=\"dataframe\">\n",
       "  <thead>\n",
       "    <tr style=\"text-align: right;\">\n",
       "      <th></th>\n",
       "      <th>0</th>\n",
       "      <th>1</th>\n",
       "      <th>2</th>\n",
       "      <th>3</th>\n",
       "    </tr>\n",
       "  </thead>\n",
       "  <tbody>\n",
       "    <tr>\n",
       "      <th>0</th>\n",
       "      <td>id</td>\n",
       "      <td>age</td>\n",
       "      <td>sex</td>\n",
       "      <td>education</td>\n",
       "    </tr>\n",
       "    <tr>\n",
       "      <th>1</th>\n",
       "      <td>1</td>\n",
       "      <td>13</td>\n",
       "      <td>1</td>\n",
       "      <td>7</td>\n",
       "    </tr>\n",
       "    <tr>\n",
       "      <th>2</th>\n",
       "      <td>2</td>\n",
       "      <td>14</td>\n",
       "      <td>0</td>\n",
       "      <td>8</td>\n",
       "    </tr>\n",
       "    <tr>\n",
       "      <th>3</th>\n",
       "      <td>3</td>\n",
       "      <td>15</td>\n",
       "      <td>1</td>\n",
       "      <td>9</td>\n",
       "    </tr>\n",
       "    <tr>\n",
       "      <th>4</th>\n",
       "      <td>4</td>\n",
       "      <td>15</td>\n",
       "      <td>1</td>\n",
       "      <td>9</td>\n",
       "    </tr>\n",
       "    <tr>\n",
       "      <th>...</th>\n",
       "      <td>...</td>\n",
       "      <td>...</td>\n",
       "      <td>...</td>\n",
       "      <td>...</td>\n",
       "    </tr>\n",
       "    <tr>\n",
       "      <th>108</th>\n",
       "      <td>108</td>\n",
       "      <td>77</td>\n",
       "      <td>1</td>\n",
       "      <td>4</td>\n",
       "    </tr>\n",
       "    <tr>\n",
       "      <th>109</th>\n",
       "      <td>109</td>\n",
       "      <td>67</td>\n",
       "      <td>0</td>\n",
       "      <td>4</td>\n",
       "    </tr>\n",
       "    <tr>\n",
       "      <th>110</th>\n",
       "      <td>110</td>\n",
       "      <td>55</td>\n",
       "      <td>0</td>\n",
       "      <td>4</td>\n",
       "    </tr>\n",
       "    <tr>\n",
       "      <th>111</th>\n",
       "      <td>111</td>\n",
       "      <td>76</td>\n",
       "      <td>1</td>\n",
       "      <td>3</td>\n",
       "    </tr>\n",
       "    <tr>\n",
       "      <th>112</th>\n",
       "      <td>112</td>\n",
       "      <td>69</td>\n",
       "      <td>0</td>\n",
       "      <td>4</td>\n",
       "    </tr>\n",
       "  </tbody>\n",
       "</table>\n",
       "<p>113 rows × 4 columns</p>\n",
       "</div>"
      ],
      "text/plain": [
       "       0    1    2          3\n",
       "0     id  age  sex  education\n",
       "1      1   13    1          7\n",
       "2      2   14    0          8\n",
       "3      3   15    1          9\n",
       "4      4   15    1          9\n",
       "..   ...  ...  ...        ...\n",
       "108  108   77    1          4\n",
       "109  109   67    0          4\n",
       "110  110   55    0          4\n",
       "111  111   76    1          3\n",
       "112  112   69    0          4\n",
       "\n",
       "[113 rows x 4 columns]"
      ]
     },
     "metadata": {},
     "output_type": "display_data"
    },
    {
     "name": "stdout",
     "output_type": "stream",
     "text": [
      "-------------- Distribuição das idades -------------\n",
      "                0\n",
      "count  112.000000\n",
      "mean    44.312500\n",
      "std     22.642157\n",
      "min     13.000000\n",
      "25%     20.000000\n",
      "50%     51.500000\n",
      "75%     65.250000\n",
      "max     79.000000\n",
      "-------------- Informação -------------------\n",
      "<class 'pandas.core.frame.DataFrame'>\n",
      "RangeIndex: 113 entries, 0 to 112\n",
      "Data columns (total 4 columns):\n",
      " #   Column  Non-Null Count  Dtype \n",
      "---  ------  --------------  ----- \n",
      " 0   0       113 non-null    object\n",
      " 1   1       113 non-null    object\n",
      " 2   2       113 non-null    object\n",
      " 3   3       113 non-null    object\n",
      "dtypes: object(4)\n",
      "memory usage: 3.7+ KB\n",
      "None\n",
      "---------------------------------------------\n",
      "Quantidade de casos de Treino:75\n",
      "Quantidade de casos de Teste:37\n",
      "Shape tensor batch casos treino, input: torch.Size([75, 2]), output: torch.Size([75, 1])\n",
      "Shape tensor batch casos teste, input: torch.Size([37, 2]), output: torch.Size([37, 1])\n"
     ]
    }
   ],
   "source": [
    "def visualize_data(path):\n",
    "  df = pd.read_csv(path, header=None)\n",
    "  display(df)\n",
    "  idades = pd.DataFrame(df.values[1:,1].astype('float32'))\n",
    "  print('-------------- Distribuição das idades -------------')\n",
    "  print(idades.describe())\n",
    "  print('-------------- Informação -------------------')\n",
    "  print(df.info())\n",
    "  print('---------------------------------------------')\n",
    "\n",
    "def visualize_dataset(train_dl, test_dl):\n",
    "  print(f\"Quantidade de casos de Treino:{len(train_dl.dataset)}\")\n",
    "  print(f\"Quantidade de casos de Teste:{len(test_dl.dataset)}\")\n",
    "  x, y = next(iter(train_dl))\n",
    "  print(f\"Shape tensor batch casos treino, input: {x.shape}, output: {y.shape}\")\n",
    "  x, y = next(iter(test_dl))\n",
    "  print(f\"Shape tensor batch casos teste, input: {x.shape}, output: {y.shape}\")\n",
    "\n",
    "visualize_data(PATH)\n",
    "visualize_dataset(train_dl, test_dl)"
   ]
  },
  {
   "cell_type": "code",
   "execution_count": 45,
   "metadata": {
    "colab": {
     "base_uri": "https://localhost:8080/",
     "height": 380
    },
    "id": "hGo0_TPf-c1s",
    "outputId": "5c0af6db-12a2-44d8-ff52-0cd07ccffe36"
   },
   "outputs": [
    {
     "name": "stdout",
     "output_type": "stream",
     "text": [
      "casos_treino: 75\n",
      "idadesBaixas_Train:  29\n",
      "idadesMedias_Train:  18\n",
      "idadesAltas_Train:  28\n",
      "casos_test: 37\n",
      "idadesBaixas_Test:  19\n",
      "idadesMedias_Test:  5\n",
      "idadesAltas_Test:  13\n"
     ]
    },
    {
     "data": {
      "image/png": "[encoded data removed]",
      "text/plain": [
       "<Figure size 432x288 with 1 Axes>"
      ]
     },
     "metadata": {},
     "output_type": "display_data"
    }
   ],
   "source": [
    "def visualize_holdout_balance(y_train, y_test):\n",
    "  _, y_train = next(iter(train_dl_all))\n",
    "  _, y_test = next(iter(test_dl_all))\n",
    "  sns.set_style('whitegrid')\n",
    "  casos_treino=len(y_train)\n",
    "  casos_test=len(y_test)\n",
    "\n",
    "  #Filtrar as idades por intervalos (usando numpy arrays)\n",
    "  np_treino = y_train.numpy()\n",
    "  #Filtrar as idades entre 13 e 35\n",
    "  idadesBaixasArr = []\n",
    "  for idade in np_treino:\n",
    "    if idade >= 13.0 and idade <= 35.0:\n",
    "        idadesBaixasArr.append(True)\n",
    "    else:\n",
    "        idadesBaixasArr.append(False)\n",
    "  #Filtrar as idades entre 36 e 58\n",
    "  idadesMediasArr = []\n",
    "  for idade in np_treino:\n",
    "    if idade >= 36.0 and idade <= 58.0:\n",
    "        idadesMediasArr.append(True)\n",
    "    else:\n",
    "        idadesMediasArr.append(False)\n",
    "  #Filtrar as idades entre 59 e 79\n",
    "  idadesAltasArr = []\n",
    "  for idade in np_treino:\n",
    "    if idade >= 59.0 and idade <= 79.0:\n",
    "        idadesAltasArr.append(True)\n",
    "    else:\n",
    "        idadesAltasArr.append(False)\n",
    "  \n",
    "  #Contagem das idades de treino\n",
    "  idadesBaixas_Train=np.count_nonzero(idadesBaixasArr)\n",
    "  idadesMedias_Train=np.count_nonzero(idadesMediasArr)\n",
    "  idadesAltas_Train=np.count_nonzero(idadesAltasArr)\n",
    "        \n",
    "  #Filtrar as idades por intervalos (usando numpy arrays)\n",
    "  np_teste = y_test.numpy()\n",
    "  #Filtrar as idades entre 13 e 35\n",
    "  idadesBaixasArr = []\n",
    "  for idade in np_teste:\n",
    "    if idade >= 13.0 and idade <= 35.0:\n",
    "        idadesBaixasArr.append(True)\n",
    "    else:\n",
    "        idadesBaixasArr.append(False)\n",
    "  #Filtrar as idades entre 36 e 58\n",
    "  idadesMediasArr = []\n",
    "  for idade in np_teste:\n",
    "    if idade >= 36.0 and idade <= 58.0:\n",
    "        idadesMediasArr.append(True)\n",
    "    else:\n",
    "        idadesMediasArr.append(False)\n",
    "  #Filtrar as idades entre 59 e 79\n",
    "  idadesAltasArr = []\n",
    "  for idade in np_teste:\n",
    "    if idade >= 59.0 and idade <= 79.0:\n",
    "        idadesAltasArr.append(True)\n",
    "    else:\n",
    "        idadesAltasArr.append(False)\n",
    "        \n",
    "  idadesBaixas_Test=np.count_nonzero(idadesBaixasArr)\n",
    "  idadesMedias_Test=np.count_nonzero(idadesMediasArr)\n",
    "  idadesAltas_Test=np.count_nonzero(idadesAltasArr)\n",
    "  \n",
    "  print(\"casos_treino:\",casos_treino)\n",
    "  print(\"idadesBaixas_Train: \", idadesBaixas_Train)\n",
    "  print(\"idadesMedias_Train: \", idadesMedias_Train)\n",
    "  print(\"idadesAltas_Train: \", idadesAltas_Train)\n",
    "  \n",
    "  print(\"casos_test:\",casos_test)\n",
    "  print(\"idadesBaixas_Test: \", idadesBaixas_Test)\n",
    "  print(\"idadesMedias_Test: \", idadesMedias_Test)\n",
    "  print(\"idadesAltas_Test: \", idadesAltas_Test)\n",
    "  \n",
    "  grafico=sns.barplot(\n",
    "      x=['idadesBaixas_Train','idadesMedias_Train', 'idadesAltas_Train',\n",
    "         'idadesBaixas_Test', 'idadesMedias_Test', 'idadesAltas_Test'], \n",
    "      y=[idadesBaixas_Train,idadesMedias_Train,idadesAltas_Train, idadesBaixas_Test, idadesMedias_Test, idadesAltas_Test])\n",
    "  grafico.set_title('Data balance ')\n",
    "  plt.xticks(rotation=70)\n",
    "  plt.tight_layout()\n",
    "  plt.show() \n",
    "\n",
    "visualize_holdout_balance(train_dl_all, test_dl_all)"
   ]
  },
  {
   "cell_type": "markdown",
   "metadata": {
    "id": "N5a4QOHI90bP"
   },
   "source": [
    "**Preparar o Modelo**"
   ]
  },
  {
   "cell_type": "code",
   "execution_count": null,
   "metadata": {
    "colab": {
     "base_uri": "https://localhost:8080/"
    },
    "id": "NBfcjepO2AIQ",
    "outputId": "09ea1221-abda-4197-bc0c-c3a950b3c65a"
   },
   "outputs": [
    {
     "name": "stdout",
     "output_type": "stream",
     "text": [
      "==========================================================================================\n",
      "Layer (type:depth-idx)                   Output Shape              Param #\n",
      "==========================================================================================\n",
      "MLP                                      --                        --\n",
      "├─Linear: 1-1                            [64, 10]                  350\n",
      "├─ReLU: 1-2                              [64, 10]                  --\n",
      "├─Linear: 1-3                            [64, 8]                   88\n",
      "├─ReLU: 1-4                              [64, 8]                   --\n",
      "├─Linear: 1-5                            [64, 1]                   9\n",
      "├─Sigmoid: 1-6                           [64, 1]                   --\n",
      "==========================================================================================\n",
      "Total params: 447\n",
      "Trainable params: 447\n",
      "Non-trainable params: 0\n",
      "Total mult-adds (M): 0.03\n",
      "==========================================================================================\n",
      "Input size (MB): 0.01\n",
      "Forward/backward pass size (MB): 0.01\n",
      "Params size (MB): 0.00\n",
      "Estimated Total Size (MB): 0.02\n",
      "==========================================================================================\n"
     ]
    },
    {
     "data": {
      "text/plain": [
       "MLP(\n",
       "  (hidden1): Linear(in_features=34, out_features=10, bias=True)\n",
       "  (act1): ReLU()\n",
       "  (hidden2): Linear(in_features=10, out_features=8, bias=True)\n",
       "  (act2): ReLU()\n",
       "  (hidden3): Linear(in_features=8, out_features=1, bias=True)\n",
       "  (act3): Sigmoid()\n",
       ")"
      ]
     },
     "execution_count": 90,
     "metadata": {},
     "output_type": "execute_result"
    }
   ],
   "source": [
    "class MLP(Module):\n",
    "  \n",
    "  def __init__(self, n_inputs):\n",
    "    super(MLP, self).__init__()\n",
    "    self.hidden1 = Linear(n_inputs, 10)\n",
    "    kaiming_uniform_(self.hidden1.weight, nonlinearity='relu')\n",
    "    self.act1 = ReLU()\n",
    "    self.hidden2 = Linear(10, 8)\n",
    "    kaiming_uniform_(self.hidden2.weight, nonlinearity='relu')\n",
    "    self.act2 = ReLU()\n",
    "    self.hidden3 = Linear(8, 1)\n",
    "    xavier_uniform_(self.hidden3.weight)\n",
    "    self.act3 = Sigmoid()\n",
    "\n",
    "  def forward(self, X): \n",
    "    X = self.hidden1(X) \n",
    "    X = self.act1(X) \n",
    "    X = self.hidden2(X) \n",
    "    X = self.act2(X) \n",
    "    X = self.hidden3(X) \n",
    "    X = self.act3(X) \n",
    "    return X\n",
    "\n",
    "model = MLP(34)\n",
    "print(summary(model, input_size=(BATCH_SIZE, 34), verbose=0))\n",
    "model.to(device)"
   ]
  },
  {
   "cell_type": "code",
   "execution_count": null,
   "metadata": {
    "colab": {
     "base_uri": "https://localhost:8080/",
     "height": 329
    },
    "id": "AqynHPzh28WI",
    "outputId": "25f7781f-d4b8-4b46-e620-f9625585dade"
   },
   "outputs": [
    {
     "ename": "NameError",
     "evalue": "ignored",
     "output_type": "error",
     "traceback": [
      "\u001b[0;31m---------------------------------------------------------------------------\u001b[0m",
      "\u001b[0;31mNameError\u001b[0m                                 Traceback (most recent call last)",
      "\u001b[0;32m<ipython-input-92-2e4b5eee6784>\u001b[0m in \u001b[0;36m<module>\u001b[0;34m()\u001b[0m\n\u001b[1;32m     22\u001b[0m         \u001b[0mliveloss\u001b[0m\u001b[0;34m.\u001b[0m\u001b[0msend\u001b[0m\u001b[0;34m(\u001b[0m\u001b[0;34m)\u001b[0m\u001b[0;34m\u001b[0m\u001b[0;34m\u001b[0m\u001b[0m\n\u001b[1;32m     23\u001b[0m \u001b[0;34m\u001b[0m\u001b[0m\n\u001b[0;32m---> 24\u001b[0;31m \u001b[0mtrain_model\u001b[0m\u001b[0;34m(\u001b[0m\u001b[0mtrain_dl\u001b[0m\u001b[0;34m,\u001b[0m \u001b[0mmodel\u001b[0m\u001b[0;34m)\u001b[0m\u001b[0;34m\u001b[0m\u001b[0;34m\u001b[0m\u001b[0m\n\u001b[0m",
      "\u001b[0;32m<ipython-input-92-2e4b5eee6784>\u001b[0m in \u001b[0;36mtrain_model\u001b[0;34m(train_dl, model)\u001b[0m\n\u001b[1;32m      1\u001b[0m \u001b[0;32mdef\u001b[0m \u001b[0mtrain_model\u001b[0m\u001b[0;34m(\u001b[0m\u001b[0mtrain_dl\u001b[0m\u001b[0;34m,\u001b[0m \u001b[0mmodel\u001b[0m\u001b[0;34m)\u001b[0m\u001b[0;34m:\u001b[0m\u001b[0;34m\u001b[0m\u001b[0;34m\u001b[0m\u001b[0m\n\u001b[0;32m----> 2\u001b[0;31m   \u001b[0mliveloss\u001b[0m \u001b[0;34m=\u001b[0m \u001b[0mPlotLosses\u001b[0m\u001b[0;34m(\u001b[0m\u001b[0;34m)\u001b[0m\u001b[0;34m\u001b[0m\u001b[0;34m\u001b[0m\u001b[0m\n\u001b[0m\u001b[1;32m      3\u001b[0m   \u001b[0mcriterion\u001b[0m \u001b[0;34m=\u001b[0m \u001b[0mBCEWithLogitsLoss\u001b[0m\u001b[0;34m(\u001b[0m\u001b[0;34m)\u001b[0m\u001b[0;34m\u001b[0m\u001b[0;34m\u001b[0m\u001b[0m\n\u001b[1;32m      4\u001b[0m   \u001b[0moptimizer\u001b[0m \u001b[0;34m=\u001b[0m \u001b[0mAdam\u001b[0m\u001b[0;34m(\u001b[0m\u001b[0mmodel\u001b[0m\u001b[0;34m.\u001b[0m\u001b[0mparameters\u001b[0m\u001b[0;34m(\u001b[0m\u001b[0;34m)\u001b[0m\u001b[0;34m,\u001b[0m \u001b[0mlr\u001b[0m\u001b[0;34m=\u001b[0m\u001b[0mLEARNING_RATE\u001b[0m\u001b[0;34m)\u001b[0m\u001b[0;34m\u001b[0m\u001b[0;34m\u001b[0m\u001b[0m\n\u001b[1;32m      5\u001b[0m   \u001b[0;32mfor\u001b[0m \u001b[0mepoch\u001b[0m \u001b[0;32min\u001b[0m \u001b[0mrange\u001b[0m\u001b[0;34m(\u001b[0m\u001b[0mEPOCHS\u001b[0m\u001b[0;34m)\u001b[0m\u001b[0;34m:\u001b[0m\u001b[0;34m\u001b[0m\u001b[0;34m\u001b[0m\u001b[0m\n",
      "\u001b[0;31mNameError\u001b[0m: name 'PlotLosses' is not defined"
     ]
    }
   ],
   "source": [
    "def train_model(train_dl, model):\n",
    "  liveloss = PlotLosses()\n",
    "  criterion = BCEWithLogitsLoss()\n",
    "  optimizer = Adam(model.parameters(), lr=LEARNING_RATE)\n",
    "  for epoch in range(EPOCHS):\n",
    "        logs = {}\n",
    "        epoch_loss  = 0 \n",
    "        epoch_acc  = 0 \n",
    "        for i, (inputs, labels) in enumerate(train_dl):\n",
    "            optimizer.zero_grad()\n",
    "            outputs = model(inputs)\n",
    "            loss = criterion(outputs, labels)\n",
    "            acc = accuracy_score(labels.numpy(), np.argmax(outputs.detach().numpy(), axis=1))\n",
    "            loss.backward()\n",
    "            optimizer.step()\n",
    "            epoch_loss += loss.item()\n",
    "            epoch_acc += acc.item()\n",
    "        print(f'Epoch {epoch:03}: | Loss: {epoch_loss/len(train_dl):.5f} | Acc: {epoch_acc/len(train_dl):.3f}')      \n",
    "        logs['loss'] = epoch_loss\n",
    "        logs['accuracy'] = epoch_acc/len(train_dl)\n",
    "        liveloss.update(logs)\n",
    "        liveloss.send()\n",
    "\n",
    "train_model(train_dl, model)"
   ]
  }
 ],
 "metadata": {
  "colab": {
   "collapsed_sections": [],
   "name": "TP-DL.ipynb",
   "provenance": []
  },
  "kernelspec": {
   "display_name": "Python 3 (ipykernel)",
   "language": "python",
   "name": "python3"
  },
  "language_info": {
   "codemirror_mode": {
    "name": "ipython",
    "version": 3
   },
   "file_extension": ".py",
   "mimetype": "text/x-python",
   "name": "python",
   "nbconvert_exporter": "python",
   "pygments_lexer": "ipython3",
   "version": "3.8.13"
  }
 },
 "nbformat": 4,
 "nbformat_minor": 1
}
