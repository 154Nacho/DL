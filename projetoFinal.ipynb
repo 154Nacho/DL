{
 "cells": [
  {
   "cell_type": "markdown",
   "metadata": {
    "id": "bAJifWVj9knv"
   },
   "source": [
    "**IMPORTS**"
   ]
  },
  {
   "cell_type": "code",
   "execution_count": 24,
   "metadata": {
    "colab": {
     "base_uri": "https://localhost:8080/",
     "height": 1000
    },
    "id": "A4-ScTCS_smN",
    "outputId": "f0348312-e250-432c-9c60-16b5f2face15",
    "scrolled": true
   },
   "outputs": [
    {
     "name": "stdout",
     "output_type": "stream",
     "text": [
      "Requirement already satisfied: torchinfo in /opt/anaconda3/lib/python3.9/site-packages (1.6.5)\n",
      "Requirement already satisfied: livelossplot in /opt/anaconda3/lib/python3.9/site-packages (0.5.5)\n",
      "Requirement already satisfied: matplotlib in /opt/anaconda3/lib/python3.9/site-packages (from livelossplot) (3.4.3)\n",
      "Requirement already satisfied: bokeh in /opt/anaconda3/lib/python3.9/site-packages (from livelossplot) (2.4.1)\n",
      "Requirement already satisfied: Jinja2>=2.9 in /opt/anaconda3/lib/python3.9/site-packages (from bokeh->livelossplot) (2.11.3)\n",
      "Requirement already satisfied: tornado>=5.1 in /opt/anaconda3/lib/python3.9/site-packages (from bokeh->livelossplot) (6.1)\n",
      "Requirement already satisfied: numpy>=1.11.3 in /opt/anaconda3/lib/python3.9/site-packages (from bokeh->livelossplot) (1.20.3)\n",
      "Requirement already satisfied: packaging>=16.8 in /opt/anaconda3/lib/python3.9/site-packages (from bokeh->livelossplot) (21.0)\n",
      "Requirement already satisfied: PyYAML>=3.10 in /opt/anaconda3/lib/python3.9/site-packages (from bokeh->livelossplot) (6.0)\n",
      "Requirement already satisfied: pillow>=7.1.0 in /opt/anaconda3/lib/python3.9/site-packages (from bokeh->livelossplot) (8.4.0)\n",
      "Requirement already satisfied: typing-extensions>=3.10.0 in /opt/anaconda3/lib/python3.9/site-packages (from bokeh->livelossplot) (3.10.0.2)\n",
      "Requirement already satisfied: MarkupSafe>=0.23 in /opt/anaconda3/lib/python3.9/site-packages (from Jinja2>=2.9->bokeh->livelossplot) (1.1.1)\n",
      "Requirement already satisfied: pyparsing>=2.0.2 in /opt/anaconda3/lib/python3.9/site-packages (from packaging>=16.8->bokeh->livelossplot) (3.0.4)\n",
      "Requirement already satisfied: python-dateutil>=2.7 in /opt/anaconda3/lib/python3.9/site-packages (from matplotlib->livelossplot) (2.8.2)\n",
      "Requirement already satisfied: kiwisolver>=1.0.1 in /opt/anaconda3/lib/python3.9/site-packages (from matplotlib->livelossplot) (1.3.1)\n",
      "Requirement already satisfied: cycler>=0.10 in /opt/anaconda3/lib/python3.9/site-packages (from matplotlib->livelossplot) (0.10.0)\n",
      "Requirement already satisfied: six in /opt/anaconda3/lib/python3.9/site-packages (from cycler>=0.10->matplotlib->livelossplot) (1.16.0)\n"
     ]
    }
   ],
   "source": [
    "!pip install torchinfo\n",
    "!pip install livelossplot"
   ]
  },
  {
   "cell_type": "code",
   "execution_count": 26,
   "metadata": {
    "colab": {
     "base_uri": "https://localhost:8080/"
    },
    "id": "bJYdJ7OjqRHy",
    "outputId": "a3a131ae-447a-4d37-b364-5c7ddd617a09",
    "scrolled": true
   },
   "outputs": [
    {
     "name": "stdout",
     "output_type": "stream",
     "text": [
      "1.11.0\n"
     ]
    }
   ],
   "source": [
    "import torch\n",
    "print(torch.__version__)"
   ]
  },
  {
   "cell_type": "code",
   "execution_count": 27,
   "metadata": {
    "id": "Ij7tu3ERqS-D"
   },
   "outputs": [],
   "source": [
    "import pandas as pd\n",
    "import numpy as np\n",
    "from sklearn.preprocessing import LabelEncoder\n",
    "from sklearn.metrics import accuracy_score\n",
    "from sklearn.metrics import confusion_matrix, classification_report\n",
    "from torch.utils.data import Dataset\n",
    "from torch.utils.data import DataLoader\n",
    "from torch.utils.data import random_split\n",
    "from torch import Tensor\n",
    "from torch.nn import Linear\n",
    "from torch.nn import ReLU\n",
    "from torch.nn import Sigmoid\n",
    "from torch.nn import Softmax\n",
    "from torch.nn import Module\n",
    "from torch.nn import CrossEntropyLoss\n",
    "from torch.optim import SGD, Adam\n",
    "from torch.nn import BCELoss, BCEWithLogitsLoss\n",
    "from torch.nn.init import kaiming_uniform_\n",
    "from torch.nn.init import xavier_uniform_\n",
    "from IPython.display import display\n",
    "import seaborn as sns\n",
    "import matplotlib.pyplot as plt\n",
    "from torchinfo import summary\n",
    "from livelossplot import PlotLosses"
   ]
  },
  {
   "cell_type": "markdown",
   "metadata": {
    "id": "v2PNCh9g9sU1"
   },
   "source": [
    "**Preparar os Dados**"
   ]
  },
  {
   "cell_type": "code",
   "execution_count": 28,
   "metadata": {
    "id": "Y8fKX3dbqiaM"
   },
   "outputs": [],
   "source": [
    "PATH_TRAINING = 'train.csv'\n",
    "PATH_TEST = 'test.csv'\n",
    "\n",
    "device = torch.device(\"cpu\")\n",
    "\n",
    "EPOCHS = 50\n",
    "BATCH_SIZE = 32\n",
    "LEARNING_RATE = 0.001"
   ]
  },
  {
   "cell_type": "code",
   "execution_count": 52,
   "metadata": {
    "id": "Is3JFD9aqm8Q"
   },
   "outputs": [],
   "source": [
    "class CSVDataset(Dataset):\n",
    "    \n",
    "    def __init__(self, path):\n",
    "        df = pd.read_csv(path, header=None)\n",
    "        self.X = df.values[1:,1:]\n",
    "        self.X = np.delete(self.X,0,1) #remover a idade\n",
    "        #print(self.X)\n",
    "        self.y = df.values[1:, 1]\n",
    "        self.X = self.X.astype('float32')\n",
    "        self.y = self.y.astype('float32')\n",
    "        self.y = self.y.reshape((len(self.y), 1))\n",
    "        self.X = standardize(self.X)\n",
    "        self.X = normalize(self.X)\n",
    "        #print(self.X)\n",
    "\n",
    "    def __len__(self):\n",
    "        return len(self.X)\n",
    "\n",
    "    def __getitem__(self, idx):\n",
    "        return [self.X[idx], self.y[idx]] \n",
    "    \n",
    "    def getXy (self):\n",
    "        return self.X, self.y\n",
    "  \n",
    "    def get_splits(self, n_test=0.33): \n",
    "        test_size = round(n_test * len(self.X)) \n",
    "        train_size = len(self.X) - test_size \n",
    "        return random_split(self, [train_size, test_size])\n",
    "    \n",
    "    def standardize(X):\n",
    "        Xmed = np.mean(X, axis = 0)\n",
    "        Xsigma = np.std(X, axis = 0)\n",
    "        return (X-Xmed)/Xsigma\n",
    "\n",
    "    def normalize(X):\n",
    "        Xmax = np.max(X, axis = 0)\n",
    "        Xmin = np.min(X, axis = 0)\n",
    "        return (X-Xmin)/(Xmax-Xmin)"
   ]
  },
  {
   "cell_type": "code",
   "execution_count": 53,
   "metadata": {
    "colab": {
     "base_uri": "https://localhost:8080/"
    },
    "id": "DvzvNicWre3r",
    "outputId": "ddf641de-3440-4f9c-a70d-59495859a160"
   },
   "outputs": [
    {
     "name": "stdout",
     "output_type": "stream",
     "text": [
      "torch.Size([75, 2]) torch.Size([75, 1])\n",
      "torch.Size([37, 2]) torch.Size([37, 1])\n"
     ]
    }
   ],
   "source": [
    "def prepare_data(path):\n",
    "        dataset = CSVDataset(path)\n",
    "        train, test = dataset.get_splits()\n",
    "        train_dl = DataLoader(train, batch_size=len(train), shuffle=True)\n",
    "        test_dl = DataLoader(test, batch_size=1024, shuffle=False)\n",
    "        train_dl_all = DataLoader(train, batch_size=len(train), shuffle=False)\n",
    "        test_dl_all = DataLoader(test, batch_size=len(test), shuffle=False)\n",
    "        return train_dl, test_dl, train_dl_all, test_dl_all\n",
    "        \n",
    "train_dl, test_dl,  train_dl_all, test_dl_all = prepare_data(PATH_TRAINING)\n",
    "\n",
    "x,y = next(iter(train_dl))\n",
    "print(x.shape, y.shape)\n",
    "x,y = next(iter(test_dl))\n",
    "print(x.shape, y.shape)"
   ]
  },
  {
   "cell_type": "markdown",
   "metadata": {
    "id": "xAfOXcIZ9wZ5"
   },
   "source": [
    "**Visualizar os Dados**"
   ]
  },
  {
   "cell_type": "code",
   "execution_count": 54,
   "metadata": {
    "colab": {
     "base_uri": "https://localhost:8080/",
     "height": 513
    },
    "id": "sSjHZW6094Hw",
    "outputId": "1222ac87-91a8-408c-b207-4d67ba3e4bbb"
   },
   "outputs": [
    {
     "data": {
      "text/html": [
       "<div>\n",
       "<style scoped>\n",
       "    .dataframe tbody tr th:only-of-type {\n",
       "        vertical-align: middle;\n",
       "    }\n",
       "\n",
       "    .dataframe tbody tr th {\n",
       "        vertical-align: top;\n",
       "    }\n",
       "\n",
       "    .dataframe thead th {\n",
       "        text-align: right;\n",
       "    }\n",
       "</style>\n",
       "<table border=\"1\" class=\"dataframe\">\n",
       "  <thead>\n",
       "    <tr style=\"text-align: right;\">\n",
       "      <th></th>\n",
       "      <th>0</th>\n",
       "      <th>1</th>\n",
       "      <th>2</th>\n",
       "      <th>3</th>\n",
       "    </tr>\n",
       "  </thead>\n",
       "  <tbody>\n",
       "    <tr>\n",
       "      <th>0</th>\n",
       "      <td>id</td>\n",
       "      <td>age</td>\n",
       "      <td>sex</td>\n",
       "      <td>education</td>\n",
       "    </tr>\n",
       "    <tr>\n",
       "      <th>1</th>\n",
       "      <td>1</td>\n",
       "      <td>13</td>\n",
       "      <td>1</td>\n",
       "      <td>7</td>\n",
       "    </tr>\n",
       "    <tr>\n",
       "      <th>2</th>\n",
       "      <td>2</td>\n",
       "      <td>14</td>\n",
       "      <td>0</td>\n",
       "      <td>8</td>\n",
       "    </tr>\n",
       "    <tr>\n",
       "      <th>3</th>\n",
       "      <td>3</td>\n",
       "      <td>15</td>\n",
       "      <td>1</td>\n",
       "      <td>9</td>\n",
       "    </tr>\n",
       "    <tr>\n",
       "      <th>4</th>\n",
       "      <td>4</td>\n",
       "      <td>15</td>\n",
       "      <td>1</td>\n",
       "      <td>9</td>\n",
       "    </tr>\n",
       "    <tr>\n",
       "      <th>...</th>\n",
       "      <td>...</td>\n",
       "      <td>...</td>\n",
       "      <td>...</td>\n",
       "      <td>...</td>\n",
       "    </tr>\n",
       "    <tr>\n",
       "      <th>108</th>\n",
       "      <td>108</td>\n",
       "      <td>77</td>\n",
       "      <td>1</td>\n",
       "      <td>4</td>\n",
       "    </tr>\n",
       "    <tr>\n",
       "      <th>109</th>\n",
       "      <td>109</td>\n",
       "      <td>67</td>\n",
       "      <td>0</td>\n",
       "      <td>4</td>\n",
       "    </tr>\n",
       "    <tr>\n",
       "      <th>110</th>\n",
       "      <td>110</td>\n",
       "      <td>55</td>\n",
       "      <td>0</td>\n",
       "      <td>4</td>\n",
       "    </tr>\n",
       "    <tr>\n",
       "      <th>111</th>\n",
       "      <td>111</td>\n",
       "      <td>76</td>\n",
       "      <td>1</td>\n",
       "      <td>3</td>\n",
       "    </tr>\n",
       "    <tr>\n",
       "      <th>112</th>\n",
       "      <td>112</td>\n",
       "      <td>69</td>\n",
       "      <td>0</td>\n",
       "      <td>4</td>\n",
       "    </tr>\n",
       "  </tbody>\n",
       "</table>\n",
       "<p>113 rows × 4 columns</p>\n",
       "</div>"
      ],
      "text/plain": [
       "       0    1    2          3\n",
       "0     id  age  sex  education\n",
       "1      1   13    1          7\n",
       "2      2   14    0          8\n",
       "3      3   15    1          9\n",
       "4      4   15    1          9\n",
       "..   ...  ...  ...        ...\n",
       "108  108   77    1          4\n",
       "109  109   67    0          4\n",
       "110  110   55    0          4\n",
       "111  111   76    1          3\n",
       "112  112   69    0          4\n",
       "\n",
       "[113 rows x 4 columns]"
      ]
     },
     "metadata": {},
     "output_type": "display_data"
    },
    {
     "name": "stdout",
     "output_type": "stream",
     "text": [
      "-------------- Distribuição das idades -------------\n",
      "                0\n",
      "count  112.000000\n",
      "mean    44.312500\n",
      "std     22.642157\n",
      "min     13.000000\n",
      "25%     20.000000\n",
      "50%     51.500000\n",
      "75%     65.250000\n",
      "max     79.000000\n",
      "-------------- Informação -------------------\n",
      "<class 'pandas.core.frame.DataFrame'>\n",
      "RangeIndex: 113 entries, 0 to 112\n",
      "Data columns (total 4 columns):\n",
      " #   Column  Non-Null Count  Dtype \n",
      "---  ------  --------------  ----- \n",
      " 0   0       113 non-null    object\n",
      " 1   1       113 non-null    object\n",
      " 2   2       113 non-null    object\n",
      " 3   3       113 non-null    object\n",
      "dtypes: object(4)\n",
      "memory usage: 3.7+ KB\n",
      "None\n",
      "---------------------------------------------\n",
      "Quantidade de casos de Treino:75\n",
      "Quantidade de casos de Teste:37\n",
      "Shape tensor batch casos treino, input: torch.Size([75, 2]), output: torch.Size([75, 1])\n",
      "Shape tensor batch casos teste, input: torch.Size([37, 2]), output: torch.Size([37, 1])\n"
     ]
    }
   ],
   "source": [
    "def visualize_data(path):\n",
    "    df = pd.read_csv(path, header=None)\n",
    "    display(df)\n",
    "    idades = pd.DataFrame(df.values[1:,1].astype('float32'))\n",
    "    print('-------------- Distribuição das idades -------------')\n",
    "    print(idades.describe())\n",
    "    print('-------------- Informação -------------------')\n",
    "    print(df.info())\n",
    "    print('---------------------------------------------')\n",
    "\n",
    "def visualize_dataset(train_dl, test_dl):\n",
    "    print(f\"Quantidade de casos de Treino:{len(train_dl.dataset)}\")\n",
    "    print(f\"Quantidade de casos de Teste:{len(test_dl.dataset)}\")\n",
    "    x, y = next(iter(train_dl))\n",
    "    print(f\"Shape tensor batch casos treino, input: {x.shape}, output: {y.shape}\")\n",
    "    #print(y)\n",
    "    x, y = next(iter(test_dl))\n",
    "    print(f\"Shape tensor batch casos teste, input: {x.shape}, output: {y.shape}\")\n",
    "    #print(y)\n",
    "    \n",
    "visualize_data(PATH_TRAINING)\n",
    "visualize_dataset(train_dl, test_dl)"
   ]
  },
  {
   "cell_type": "code",
   "execution_count": 19,
   "metadata": {
    "colab": {
     "base_uri": "https://localhost:8080/",
     "height": 380
    },
    "id": "hGo0_TPf-c1s",
    "outputId": "5c0af6db-12a2-44d8-ff52-0cd07ccffe36"
   },
   "outputs": [
    {
     "name": "stdout",
     "output_type": "stream",
     "text": [
      "casos_treino: 75\n",
      "idadesBaixas_Train:  30\n",
      "idadesMedias_Train:  16\n",
      "idadesAltas_Train:  29\n",
      "casos_test: 37\n",
      "idadesBaixas_Test:  18\n",
      "idadesMedias_Test:  7\n",
      "idadesAltas_Test:  12\n"
     ]
    },
    {
     "data": {
      "image/png": "[encoded data removed]",
      "text/plain": [
       "<Figure size 432x288 with 1 Axes>"
      ]
     },
     "metadata": {},
     "output_type": "display_data"
    }
   ],
   "source": [
    "def visualize_holdout_balance(y_train, y_test):\n",
    "    _, y_train = next(iter(train_dl_all))\n",
    "    _, y_test = next(iter(test_dl_all))\n",
    "    sns.set_style('whitegrid')\n",
    "    casos_treino=len(y_train)\n",
    "    casos_test=len(y_test)\n",
    "\n",
    "    #Filtrar as idades por intervalos (usando numpy arrays)\n",
    "    np_treino = y_train.numpy()\n",
    "    #Filtrar as idades entre 13 e 35\n",
    "    idadesBaixasArr = []\n",
    "    for idade in np_treino:\n",
    "        if idade >= 13.0 and idade <= 35.0:\n",
    "            idadesBaixasArr.append(True)\n",
    "        else:\n",
    "            idadesBaixasArr.append(False)\n",
    "    #Filtrar as idades entre 36 e 58\n",
    "    idadesMediasArr = []\n",
    "    for idade in np_treino:\n",
    "        if idade >= 36.0 and idade <= 58.0:\n",
    "            idadesMediasArr.append(True)\n",
    "        else:\n",
    "            idadesMediasArr.append(False)\n",
    "    #Filtrar as idades entre 59 e 79\n",
    "    idadesAltasArr = []\n",
    "    for idade in np_treino:\n",
    "        if idade >= 59.0 and idade <= 79.0:\n",
    "            idadesAltasArr.append(True)\n",
    "        else:\n",
    "            idadesAltasArr.append(False)\n",
    "  \n",
    "    #Contagem das idades de treino\n",
    "    idadesBaixas_Train=np.count_nonzero(idadesBaixasArr)\n",
    "    idadesMedias_Train=np.count_nonzero(idadesMediasArr)\n",
    "    idadesAltas_Train=np.count_nonzero(idadesAltasArr)\n",
    "        \n",
    "    #Filtrar as idades por intervalos (usando numpy arrays)\n",
    "    np_teste = y_test.numpy()\n",
    "    #Filtrar as idades entre 13 e 35\n",
    "    idadesBaixasArr = []\n",
    "    for idade in np_teste:\n",
    "        if idade >= 13.0 and idade <= 35.0:\n",
    "            idadesBaixasArr.append(True)\n",
    "        else:\n",
    "            idadesBaixasArr.append(False)\n",
    "    #Filtrar as idades entre 36 e 58\n",
    "    idadesMediasArr = []\n",
    "    for idade in np_teste:\n",
    "        if idade >= 36.0 and idade <= 58.0:\n",
    "            idadesMediasArr.append(True)\n",
    "        else:\n",
    "            idadesMediasArr.append(False)\n",
    "    #Filtrar as idades entre 59 e 79\n",
    "    idadesAltasArr = []\n",
    "    for idade in np_teste:\n",
    "        if idade >= 59.0 and idade <= 79.0:\n",
    "            idadesAltasArr.append(True)\n",
    "        else:\n",
    "            idadesAltasArr.append(False)\n",
    "        \n",
    "    idadesBaixas_Test=np.count_nonzero(idadesBaixasArr)\n",
    "    idadesMedias_Test=np.count_nonzero(idadesMediasArr)\n",
    "    idadesAltas_Test=np.count_nonzero(idadesAltasArr)\n",
    "  \n",
    "    print(\"casos_treino:\",casos_treino)\n",
    "    print(\"idadesBaixas_Train: \", idadesBaixas_Train)\n",
    "    print(\"idadesMedias_Train: \", idadesMedias_Train)\n",
    "    print(\"idadesAltas_Train: \", idadesAltas_Train)\n",
    "  \n",
    "    print(\"casos_test:\",casos_test)\n",
    "    print(\"idadesBaixas_Test: \", idadesBaixas_Test)\n",
    "    print(\"idadesMedias_Test: \", idadesMedias_Test)\n",
    "    print(\"idadesAltas_Test: \", idadesAltas_Test)\n",
    "  \n",
    "    grafico=sns.barplot(\n",
    "      x=['idadesBaixas_Train','idadesMedias_Train', 'idadesAltas_Train',\n",
    "         'idadesBaixas_Test', 'idadesMedias_Test', 'idadesAltas_Test'], \n",
    "      y=[idadesBaixas_Train,idadesMedias_Train,idadesAltas_Train, idadesBaixas_Test, idadesMedias_Test, idadesAltas_Test])\n",
    "    grafico.set_title('Data balance ')\n",
    "    plt.xticks(rotation=70)\n",
    "    plt.tight_layout()\n",
    "    plt.show() \n",
    "\n",
    "visualize_holdout_balance(train_dl_all, test_dl_all)"
   ]
  },
  {
   "cell_type": "markdown",
   "metadata": {
    "id": "N5a4QOHI90bP"
   },
   "source": [
    "**Preparar o Modelo**"
   ]
  },
  {
   "cell_type": "code",
   "execution_count": 55,
   "metadata": {
    "colab": {
     "base_uri": "https://localhost:8080/"
    },
    "id": "NBfcjepO2AIQ",
    "outputId": "09ea1221-abda-4197-bc0c-c3a950b3c65a",
    "scrolled": true
   },
   "outputs": [
    {
     "name": "stdout",
     "output_type": "stream",
     "text": [
      "==========================================================================================\n",
      "Layer (type:depth-idx)                   Output Shape              Param #\n",
      "==========================================================================================\n",
      "MLP                                      --                        --\n",
      "├─Linear: 1-1                            [32, 10]                  30\n",
      "├─ReLU: 1-2                              [32, 10]                  --\n",
      "├─Linear: 1-3                            [32, 8]                   88\n",
      "├─ReLU: 1-4                              [32, 8]                   --\n",
      "├─Linear: 1-5                            [32, 1]                   9\n",
      "├─Sigmoid: 1-6                           [32, 1]                   --\n",
      "==========================================================================================\n",
      "Total params: 127\n",
      "Trainable params: 127\n",
      "Non-trainable params: 0\n",
      "Total mult-adds (M): 0.00\n",
      "==========================================================================================\n",
      "Input size (MB): 0.00\n",
      "Forward/backward pass size (MB): 0.00\n",
      "Params size (MB): 0.00\n",
      "Estimated Total Size (MB): 0.01\n",
      "==========================================================================================\n"
     ]
    },
    {
     "data": {
      "text/plain": [
       "MLP(\n",
       "  (hidden1): Linear(in_features=2, out_features=10, bias=True)\n",
       "  (act1): ReLU()\n",
       "  (hidden2): Linear(in_features=10, out_features=8, bias=True)\n",
       "  (act2): ReLU()\n",
       "  (hidden3): Linear(in_features=8, out_features=1, bias=True)\n",
       "  (act3): Sigmoid()\n",
       ")"
      ]
     },
     "execution_count": 55,
     "metadata": {},
     "output_type": "execute_result"
    }
   ],
   "source": [
    "class MLP(Module):\n",
    "    \n",
    "    def __init__(self, n_inputs):\n",
    "        super(MLP, self).__init__()\n",
    "        self.hidden1 = Linear(n_inputs, 10)\n",
    "        kaiming_uniform_(self.hidden1.weight, nonlinearity='relu')\n",
    "        self.act1 = ReLU()\n",
    "        self.hidden2 = Linear(10, 8)\n",
    "        kaiming_uniform_(self.hidden2.weight, nonlinearity='relu')\n",
    "        self.act2 = ReLU()\n",
    "        self.hidden3 = Linear(8, 1)\n",
    "        xavier_uniform_(self.hidden3.weight)\n",
    "        self.act3 = Sigmoid()\n",
    "        \n",
    "    def forward(self, X): \n",
    "        X = self.hidden1(X) \n",
    "        X = self.act1(X) \n",
    "        X = self.hidden2(X) \n",
    "        X = self.act2(X) \n",
    "        X = self.hidden3(X) \n",
    "        X = self.act3(X) \n",
    "        return X\n",
    "\n",
    "model = MLP(2)\n",
    "print(summary(model, input_size=(BATCH_SIZE, 2), verbose=0))\n",
    "model.to(device)"
   ]
  },
  {
   "cell_type": "code",
   "execution_count": 57,
   "metadata": {
    "colab": {
     "base_uri": "https://localhost:8080/",
     "height": 329
    },
    "id": "AqynHPzh28WI",
    "outputId": "25f7781f-d4b8-4b46-e620-f9625585dade"
   },
   "outputs": [
    {
     "data": {
      "image/png": "[encoded data removed]",
      "text/plain": [
       "<Figure size 864x576 with 2 Axes>"
      ]
     },
     "metadata": {},
     "output_type": "display_data"
    },
    {
     "name": "stdout",
     "output_type": "stream",
     "text": [
      "accuracy\n",
      "\taccuracy         \t (min:    0.000, max:    0.000, cur:    0.000)\n",
      "Loss\n",
      "\tloss             \t (min:  -43.100, max:  -43.100, cur:  -43.100)\n"
     ]
    }
   ],
   "source": [
    "def train_model(train_dl, model):\n",
    "    liveloss = PlotLosses()\n",
    "    criterion = BCEWithLogitsLoss()\n",
    "    optimizer = Adam(model.parameters(), lr=LEARNING_RATE)\n",
    "    for epoch in range(EPOCHS):\n",
    "        logs = {}\n",
    "        epoch_loss = 0\n",
    "        epoch_acc = 0\n",
    "        for i, (inputs, targets) in enumerate(train_dl):\n",
    "            optimizer.zero_grad()\n",
    "            yprev = model(inputs)\n",
    "            loss = criterion(yprev, targets)\n",
    "            acc = accuracy_score(targets.numpy(), np.argmax(yprev.detach().numpy(), axis=1))\n",
    "            loss.backward()\n",
    "            optimizer.step()\n",
    "            epoch_loss += loss.item()\n",
    "            epoch_acc += acc.item()\n",
    "        print(f'Epoch {epoch:03}: | Loss: {epoch_loss/len(train_dl):.5f} | Acc: {epoch_acc/len(train_dl):.3f}')      \n",
    "        logs['loss'] = epoch_loss\n",
    "        logs['accuracy'] = epoch_acc/len(train_dl)\n",
    "        liveloss.update(logs)\n",
    "        liveloss.send()\n",
    "            \n",
    "train_model(train_dl, model)"
   ]
  },
  {
   "cell_type": "code",
   "execution_count": 59,
   "metadata": {},
   "outputs": [
    {
     "name": "stdout",
     "output_type": "stream",
     "text": [
      "tensor([[0.0000, 0.2000],\n",
      "        [0.0000, 0.2000],\n",
      "        [1.0000, 0.4500],\n",
      "        [0.0000, 0.5000],\n",
      "        [0.0000, 0.6000],\n",
      "        [0.0000, 0.5000],\n",
      "        [0.0000, 0.5000],\n",
      "        [1.0000, 0.2000],\n",
      "        [0.0000, 0.4500],\n",
      "        [0.0000, 0.8500],\n",
      "        [1.0000, 0.6000],\n",
      "        [1.0000, 0.5000],\n",
      "        [0.0000, 0.6000],\n",
      "        [0.0000, 0.2000],\n",
      "        [0.0000, 0.3000],\n",
      "        [1.0000, 0.5000],\n",
      "        [0.0000, 0.8500],\n",
      "        [0.0000, 0.6000],\n",
      "        [1.0000, 0.3000],\n",
      "        [1.0000, 0.7500],\n",
      "        [0.0000, 0.4500],\n",
      "        [1.0000, 0.3000],\n",
      "        [0.0000, 0.7000],\n",
      "        [1.0000, 0.8500],\n",
      "        [1.0000, 0.6500],\n",
      "        [1.0000, 0.8500],\n",
      "        [1.0000, 0.2000],\n",
      "        [1.0000, 0.8500],\n",
      "        [1.0000, 0.2000],\n",
      "        [0.0000, 0.8000],\n",
      "        [1.0000, 0.2000],\n",
      "        [0.0000, 0.2000],\n",
      "        [0.0000, 0.8000],\n",
      "        [1.0000, 0.4500],\n",
      "        [0.0000, 0.6000],\n",
      "        [1.0000, 0.1500],\n",
      "        [1.0000, 0.0000]]) tensor([[68.],\n",
      "        [65.],\n",
      "        [18.],\n",
      "        [16.],\n",
      "        [58.],\n",
      "        [16.],\n",
      "        [16.],\n",
      "        [58.],\n",
      "        [56.],\n",
      "        [63.],\n",
      "        [26.],\n",
      "        [16.],\n",
      "        [73.],\n",
      "        [58.],\n",
      "        [55.],\n",
      "        [16.],\n",
      "        [27.],\n",
      "        [72.],\n",
      "        [54.],\n",
      "        [24.],\n",
      "        [51.],\n",
      "        [41.],\n",
      "        [20.],\n",
      "        [24.],\n",
      "        [19.],\n",
      "        [28.],\n",
      "        [68.],\n",
      "        [24.],\n",
      "        [68.],\n",
      "        [55.],\n",
      "        [77.],\n",
      "        [61.],\n",
      "        [22.],\n",
      "        [15.],\n",
      "        [69.],\n",
      "        [71.],\n",
      "        [64.]])\n",
      "Accuracy: 0.000\n",
      "\n",
      "real:[68.] previsão:[1.]\n",
      "real:[65.] previsão:[1.]\n",
      "real:[18.] previsão:[1.]\n",
      "real:[16.] previsão:[1.]\n",
      "real:[58.] previsão:[1.]\n",
      "real:[16.] previsão:[1.]\n",
      "real:[16.] previsão:[1.]\n",
      "real:[58.] previsão:[1.]\n",
      "real:[56.] previsão:[1.]\n",
      "real:[63.] previsão:[1.]\n",
      "real:[26.] previsão:[1.]\n",
      "real:[16.] previsão:[1.]\n",
      "real:[73.] previsão:[1.]\n",
      "real:[58.] previsão:[1.]\n",
      "real:[55.] previsão:[1.]\n",
      "real:[16.] previsão:[1.]\n",
      "real:[27.] previsão:[1.]\n",
      "real:[72.] previsão:[1.]\n",
      "real:[54.] previsão:[1.]\n",
      "real:[24.] previsão:[1.]\n",
      "real:[51.] previsão:[1.]\n",
      "real:[41.] previsão:[1.]\n",
      "real:[20.] previsão:[1.]\n",
      "real:[24.] previsão:[1.]\n",
      "real:[19.] previsão:[1.]\n",
      "real:[28.] previsão:[1.]\n",
      "real:[68.] previsão:[1.]\n",
      "real:[24.] previsão:[1.]\n",
      "real:[68.] previsão:[1.]\n",
      "real:[55.] previsão:[1.]\n",
      "real:[77.] previsão:[1.]\n",
      "real:[61.] previsão:[1.]\n",
      "real:[22.] previsão:[1.]\n",
      "real:[15.] previsão:[1.]\n",
      "real:[69.] previsão:[1.]\n",
      "real:[71.] previsão:[1.]\n",
      "real:[64.] previsão:[1.]\n",
      "acertou:0 falhou:37\n",
      "              precision    recall  f1-score   support\n",
      "\n",
      "         1.0       0.00      0.00      0.00       0.0\n",
      "        15.0       0.00      0.00      0.00       1.0\n",
      "        16.0       0.00      0.00      0.00       5.0\n",
      "        18.0       0.00      0.00      0.00       1.0\n",
      "        19.0       0.00      0.00      0.00       1.0\n",
      "        20.0       0.00      0.00      0.00       1.0\n",
      "        22.0       0.00      0.00      0.00       1.0\n",
      "        24.0       0.00      0.00      0.00       3.0\n",
      "        26.0       0.00      0.00      0.00       1.0\n",
      "        27.0       0.00      0.00      0.00       1.0\n",
      "        28.0       0.00      0.00      0.00       1.0\n",
      "        41.0       0.00      0.00      0.00       1.0\n",
      "        51.0       0.00      0.00      0.00       1.0\n",
      "        54.0       0.00      0.00      0.00       1.0\n",
      "        55.0       0.00      0.00      0.00       2.0\n",
      "        56.0       0.00      0.00      0.00       1.0\n",
      "        58.0       0.00      0.00      0.00       3.0\n",
      "        61.0       0.00      0.00      0.00       1.0\n",
      "        63.0       0.00      0.00      0.00       1.0\n",
      "        64.0       0.00      0.00      0.00       1.0\n",
      "        65.0       0.00      0.00      0.00       1.0\n",
      "        68.0       0.00      0.00      0.00       3.0\n",
      "        69.0       0.00      0.00      0.00       1.0\n",
      "        71.0       0.00      0.00      0.00       1.0\n",
      "        72.0       0.00      0.00      0.00       1.0\n",
      "        73.0       0.00      0.00      0.00       1.0\n",
      "        77.0       0.00      0.00      0.00       1.0\n",
      "\n",
      "    accuracy                           0.00      37.0\n",
      "   macro avg       0.00      0.00      0.00      37.0\n",
      "weighted avg       0.00      0.00      0.00      37.0\n",
      "\n"
     ]
    },
    {
     "name": "stderr",
     "output_type": "stream",
     "text": [
      "/opt/anaconda3/envs/DL/lib/python3.8/site-packages/sklearn/metrics/_classification.py:1318: UndefinedMetricWarning: Precision and F-score are ill-defined and being set to 0.0 in labels with no predicted samples. Use `zero_division` parameter to control this behavior.\n",
      "  _warn_prf(average, modifier, msg_start, len(result))\n",
      "/opt/anaconda3/envs/DL/lib/python3.8/site-packages/sklearn/metrics/_classification.py:1318: UndefinedMetricWarning: Recall and F-score are ill-defined and being set to 0.0 in labels with no true samples. Use `zero_division` parameter to control this behavior.\n",
      "  _warn_prf(average, modifier, msg_start, len(result))\n",
      "/opt/anaconda3/envs/DL/lib/python3.8/site-packages/sklearn/metrics/_classification.py:1318: UndefinedMetricWarning: Precision and F-score are ill-defined and being set to 0.0 in labels with no predicted samples. Use `zero_division` parameter to control this behavior.\n",
      "  _warn_prf(average, modifier, msg_start, len(result))\n",
      "/opt/anaconda3/envs/DL/lib/python3.8/site-packages/sklearn/metrics/_classification.py:1318: UndefinedMetricWarning: Recall and F-score are ill-defined and being set to 0.0 in labels with no true samples. Use `zero_division` parameter to control this behavior.\n",
      "  _warn_prf(average, modifier, msg_start, len(result))\n",
      "/opt/anaconda3/envs/DL/lib/python3.8/site-packages/sklearn/metrics/_classification.py:1318: UndefinedMetricWarning: Precision and F-score are ill-defined and being set to 0.0 in labels with no predicted samples. Use `zero_division` parameter to control this behavior.\n",
      "  _warn_prf(average, modifier, msg_start, len(result))\n",
      "/opt/anaconda3/envs/DL/lib/python3.8/site-packages/sklearn/metrics/_classification.py:1318: UndefinedMetricWarning: Recall and F-score are ill-defined and being set to 0.0 in labels with no true samples. Use `zero_division` parameter to control this behavior.\n",
      "  _warn_prf(average, modifier, msg_start, len(result))\n"
     ]
    }
   ],
   "source": [
    "def evaluate_model(test_dl, model):\n",
    "    predictions = list()\n",
    "    actual_values = list()\n",
    "    for i, (inputs, labels) in enumerate(test_dl):\n",
    "        print(inputs,labels)\n",
    "        yprev = model(inputs)\n",
    "        yprev = yprev.detach().numpy()\n",
    "        actual = labels.numpy()\n",
    "        yprev = yprev.round()\n",
    "        predictions.append(yprev)\n",
    "        actual_values.append(actual)\n",
    "    predictions, actual_values = np.vstack(predictions), np.vstack(actual_values)\n",
    "    return predictions, actual_values\n",
    "\n",
    "predictions, actual_values = evaluate_model(test_dl, model)\n",
    "acc = accuracy_score(actual_values, predictions)\n",
    "print(f'Accuracy: {acc:0.3f}\\n')\n",
    "acertou=0\n",
    "falhou = 0\n",
    "for r,p in zip(actual_values, predictions): \n",
    "    print(f'real:{r} previsão:{p}')  \n",
    "    if r==p: acertou+=1\n",
    "    else: falhou+=1\n",
    "print(f'acertou:{acertou} falhou:{falhou}')\n",
    "print(classification_report(actual_values,  predictions))"
   ]
  },
  {
   "cell_type": "code",
   "execution_count": null,
   "metadata": {},
   "outputs": [],
   "source": []
  }
 ],
 "metadata": {
  "colab": {
   "collapsed_sections": [],
   "name": "TP-DL.ipynb",
   "provenance": []
  },
  "kernelspec": {
   "display_name": "Python 3 (ipykernel)",
   "language": "python",
   "name": "python3"
  },
  "language_info": {
   "codemirror_mode": {
    "name": "ipython",
    "version": 3
   },
   "file_extension": ".py",
   "mimetype": "text/x-python",
   "name": "python",
   "nbconvert_exporter": "python",
   "pygments_lexer": "ipython3",
   "version": "3.8.13"
  }
 },
 "nbformat": 4,
 "nbformat_minor": 1
}
