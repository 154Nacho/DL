{
 "cells": [
  {
   "cell_type": "code",
   "execution_count": 11,
   "metadata": {},
   "outputs": [],
   "source": [
    "import numpy as np\n",
    "import scipy.io\n",
    "train_mat = scipy.io.loadmat('train_data.mat') \n",
    "test_mat = scipy.io.loadmat('test_data.mat') "
   ]
  },
  {
   "cell_type": "code",
   "execution_count": 65,
   "metadata": {},
   "outputs": [
    {
     "name": "stdout",
     "output_type": "stream",
     "text": [
      "dict_keys(['__header__', '__version__', '__globals__', 'train_data'])\n",
      "dict_keys(['__header__', '__version__', '__globals__', 'test_data'])\n",
      "Train shape:  (112, 90, 90)\n",
      "Test shape:  (28, 90, 90)\n"
     ]
    }
   ],
   "source": [
    "def get_data_from_mat(train_file,test_file):\n",
    "    train_mat = scipy.io.loadmat(train_file) \n",
    "    test_mat = scipy.io.loadmat(test_file) \n",
    "    print(train_mat.keys())\n",
    "    print(test_mat.keys())\n",
    "    train_np = np.array(train_mat['train_data']).transpose(2,0,1)\n",
    "    #print(train_np.size)\n",
    "    test_np = np.array(test_mat['test_data']).transpose(2,0,1)\n",
    "    print('Train shape: ',train_np.shape)\n",
    "    print('Test shape: ',test_np.shape)\n",
    "    return  train_np, test_np\n",
    "\n",
    "\n",
    "train_data, test_data = get_data_from_mat('train_data.mat','test_data.mat')"
   ]
  },
  {
   "cell_type": "code",
   "execution_count": 13,
   "metadata": {},
   "outputs": [
    {
     "name": "stdout",
     "output_type": "stream",
     "text": [
      "[[0.         0.         0.13152513 ... 0.         0.         0.        ]\n",
      " [0.         0.         0.         ... 0.         0.         0.        ]\n",
      " [0.13152513 0.         0.         ... 0.         0.         0.        ]\n",
      " ...\n",
      " [0.         0.         0.         ... 0.         0.         0.28060623]\n",
      " [0.         0.         0.         ... 0.         0.         0.        ]\n",
      " [0.         0.         0.         ... 0.28060623 0.         0.        ]]\n"
     ]
    }
   ],
   "source": [
    "print(train_data[0])"
   ]
  },
  {
   "cell_type": "code",
   "execution_count": 26,
   "metadata": {},
   "outputs": [
    {
     "name": "stdout",
     "output_type": "stream",
     "text": [
      "ds shape: (112, 90, 90)\n",
      "ds max: 1.0\n",
      "ds min: 0.0\n",
      "ds average: 0.024116160549305543\n",
      "ds length: 112\n"
     ]
    },
    {
     "data": {
      "application/vnd.jupyter.widget-view+json": {
       "model_id": "6a17246e722547caa32b086a2b4c9e0c",
       "version_major": 2,
       "version_minor": 0
      },
      "text/plain": [
       "interactive(children=(IntSlider(value=55, description='scan_index', max=111), Output()), _dom_classes=('widget…"
      ]
     },
     "metadata": {},
     "output_type": "display_data"
    }
   ],
   "source": [
    "import matplotlib.pyplot as plt\n",
    "from ipywidgets import widgets, interact\n",
    "\n",
    "def visualize(image):  \n",
    "    plt.figure(\"sample\", (12, 6))\n",
    "    plt.subplot(1, 2, 1)\n",
    "    plt.imshow(image, cmap=\"gray\")    \n",
    "    plt.subplot(1, 2, 2)\n",
    "    plt.imshow(image, cmap=\"gray\")\n",
    "    plt.show()      \n",
    "\n",
    "\n",
    "#@interact\n",
    "def show_ds(ds):\n",
    "    print(\"ds shape:\",ds.shape)\n",
    "    print(\"ds max:\",np.max(ds))\n",
    "    print(\"ds min:\",np.min(ds))\n",
    "    print(\"ds average:\",np.average(ds))\n",
    "    print(\"ds length:\", len(ds))\n",
    "    @interact\n",
    "    def visualize_set(scan_index=(0,len(ds)-1)):\n",
    "        print(scan_index)\n",
    "        visualize(ds[scan_index,:,:])\n",
    "\n",
    "show_ds(train_data)"
   ]
  },
  {
   "cell_type": "code",
   "execution_count": 27,
   "metadata": {},
   "outputs": [
    {
     "name": "stdout",
     "output_type": "stream",
     "text": [
      "ds shape: (28, 90, 90)\n",
      "ds max: 1.0\n",
      "ds min: 0.0\n",
      "ds average: 0.024994026906171023\n",
      "ds length: 28\n"
     ]
    },
    {
     "data": {
      "application/vnd.jupyter.widget-view+json": {
       "model_id": "1d38da21156f495db3ce1474437ff62a",
       "version_major": 2,
       "version_minor": 0
      },
      "text/plain": [
       "interactive(children=(IntSlider(value=13, description='scan_index', max=27), Output()), _dom_classes=('widget-…"
      ]
     },
     "metadata": {},
     "output_type": "display_data"
    }
   ],
   "source": [
    "show_ds(test_data)"
   ]
  },
  {
   "cell_type": "markdown",
   "metadata": {},
   "source": [
    "# Preparação do dataset"
   ]
  },
  {
   "cell_type": "code",
   "execution_count": 68,
   "metadata": {},
   "outputs": [],
   "source": [
    "from torch.utils.data import Dataset\n",
    "import numpy as np"
   ]
  },
  {
   "cell_type": "code",
   "execution_count": 80,
   "metadata": {},
   "outputs": [
    {
     "name": "stdout",
     "output_type": "stream",
     "text": [
      "dict_keys(['__header__', '__version__', '__globals__', 'train_data'])\n",
      "dict_keys(['__header__', '__version__', '__globals__', 'test_data'])\n",
      "Train shape:  (112, 90, 90)\n",
      "Test shape:  (28, 90, 90)\n",
      "Shape dos dados de treino depois da transformação:  (112, 8100)\n"
     ]
    }
   ],
   "source": [
    "#Transformar os dados de treino de modo a que cada uma das matrizes ficam em vetor\n",
    "train_data, test_data = get_data_from_mat('train_data.mat','test_data.mat')\n",
    "\n",
    "arr = []\n",
    "for line in train_data:\n",
    "    arr.append((np.array(line)).flatten())\n",
    "train_data_flat = np.array(arr)\n",
    "print('Shape dos dados de treino depois da transformação: ', train_data_flat.shape)"
   ]
  }
 ],
 "metadata": {
  "kernelspec": {
   "display_name": "Python 3 (ipykernel)",
   "language": "python",
   "name": "python3"
  },
  "language_info": {
   "codemirror_mode": {
    "name": "ipython",
    "version": 3
   },
   "file_extension": ".py",
   "mimetype": "text/x-python",
   "name": "python",
   "nbconvert_exporter": "python",
   "pygments_lexer": "ipython3",
   "version": "3.8.13"
  }
 },
 "nbformat": 4,
 "nbformat_minor": 4
}
